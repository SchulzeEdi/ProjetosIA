{
  "cells": [
    {
      "cell_type": "markdown",
      "metadata": {
        "id": "view-in-github",
        "colab_type": "text"
      },
      "source": [
        "<a href=\"https://colab.research.google.com/github/SchulzeEdi/ProjetosIA/blob/main/previsao_populacao_rede_neural_lstm.ipynb\" target=\"_parent\"><img src=\"https://colab.research.google.com/assets/colab-badge.svg\" alt=\"Open In Colab\"/></a>"
      ]
    },
    {
      "cell_type": "code",
      "execution_count": null,
      "metadata": {
        "id": "oglc_H2Sa0IW"
      },
      "outputs": [],
      "source": [
        "import pandas as pd\n",
        "import numpy as np\n",
        "import matplotlib.pyplot as plt\n",
        "import seaborn as sns\n",
        "import math\n",
        "from sklearn.preprocessing import MinMaxScaler, StandardScaler\n",
        "from statsmodels.tsa.seasonal import seasonal_decompose\n",
        "from tensorflow.keras.models import Sequential\n",
        "from tensorflow.keras.layers import Dense, Dropout, LSTM\n"
      ]
    },
    {
      "cell_type": "code",
      "execution_count": null,
      "metadata": {
        "id": "5yeZqfyRa0IY"
      },
      "outputs": [],
      "source": [
        "df = pd.read_csv('POP.csv')"
      ]
    },
    {
      "cell_type": "code",
      "execution_count": null,
      "metadata": {
        "id": "TS3OcNYKa0IZ",
        "outputId": "123f8e32-0f55-4258-b0a7-79f948670a5f"
      },
      "outputs": [
        {
          "data": {
            "text/html": [
              "<div>\n",
              "<style scoped>\n",
              "    .dataframe tbody tr th:only-of-type {\n",
              "        vertical-align: middle;\n",
              "    }\n",
              "\n",
              "    .dataframe tbody tr th {\n",
              "        vertical-align: top;\n",
              "    }\n",
              "\n",
              "    .dataframe thead th {\n",
              "        text-align: right;\n",
              "    }\n",
              "</style>\n",
              "<table border=\"1\" class=\"dataframe\">\n",
              "  <thead>\n",
              "    <tr style=\"text-align: right;\">\n",
              "      <th></th>\n",
              "      <th>realtime_start</th>\n",
              "      <th>value</th>\n",
              "      <th>date</th>\n",
              "      <th>realtime_end</th>\n",
              "    </tr>\n",
              "  </thead>\n",
              "  <tbody>\n",
              "    <tr>\n",
              "      <th>0</th>\n",
              "      <td>2019-12-06</td>\n",
              "      <td>156309.000</td>\n",
              "      <td>1952-01-01</td>\n",
              "      <td>2019-12-06</td>\n",
              "    </tr>\n",
              "    <tr>\n",
              "      <th>1</th>\n",
              "      <td>2019-12-06</td>\n",
              "      <td>156527.000</td>\n",
              "      <td>1952-02-01</td>\n",
              "      <td>2019-12-06</td>\n",
              "    </tr>\n",
              "    <tr>\n",
              "      <th>2</th>\n",
              "      <td>2019-12-06</td>\n",
              "      <td>156731.000</td>\n",
              "      <td>1952-03-01</td>\n",
              "      <td>2019-12-06</td>\n",
              "    </tr>\n",
              "    <tr>\n",
              "      <th>3</th>\n",
              "      <td>2019-12-06</td>\n",
              "      <td>156943.000</td>\n",
              "      <td>1952-04-01</td>\n",
              "      <td>2019-12-06</td>\n",
              "    </tr>\n",
              "    <tr>\n",
              "      <th>4</th>\n",
              "      <td>2019-12-06</td>\n",
              "      <td>157140.000</td>\n",
              "      <td>1952-05-01</td>\n",
              "      <td>2019-12-06</td>\n",
              "    </tr>\n",
              "    <tr>\n",
              "      <th>...</th>\n",
              "      <td>...</td>\n",
              "      <td>...</td>\n",
              "      <td>...</td>\n",
              "      <td>...</td>\n",
              "    </tr>\n",
              "    <tr>\n",
              "      <th>811</th>\n",
              "      <td>2019-12-06</td>\n",
              "      <td>329591.333</td>\n",
              "      <td>2019-08-01</td>\n",
              "      <td>2019-12-06</td>\n",
              "    </tr>\n",
              "    <tr>\n",
              "      <th>812</th>\n",
              "      <td>2019-12-06</td>\n",
              "      <td>329785.872</td>\n",
              "      <td>2019-09-01</td>\n",
              "      <td>2019-12-06</td>\n",
              "    </tr>\n",
              "    <tr>\n",
              "      <th>813</th>\n",
              "      <td>2019-12-06</td>\n",
              "      <td>329982.035</td>\n",
              "      <td>2019-10-01</td>\n",
              "      <td>2019-12-06</td>\n",
              "    </tr>\n",
              "    <tr>\n",
              "      <th>814</th>\n",
              "      <td>2019-12-06</td>\n",
              "      <td>330154.949</td>\n",
              "      <td>2019-11-01</td>\n",
              "      <td>2019-12-06</td>\n",
              "    </tr>\n",
              "    <tr>\n",
              "      <th>815</th>\n",
              "      <td>2019-12-06</td>\n",
              "      <td>330309.946</td>\n",
              "      <td>2019-12-01</td>\n",
              "      <td>2019-12-06</td>\n",
              "    </tr>\n",
              "  </tbody>\n",
              "</table>\n",
              "<p>816 rows × 4 columns</p>\n",
              "</div>"
            ],
            "text/plain": [
              "    realtime_start       value        date realtime_end\n",
              "0       2019-12-06  156309.000  1952-01-01   2019-12-06\n",
              "1       2019-12-06  156527.000  1952-02-01   2019-12-06\n",
              "2       2019-12-06  156731.000  1952-03-01   2019-12-06\n",
              "3       2019-12-06  156943.000  1952-04-01   2019-12-06\n",
              "4       2019-12-06  157140.000  1952-05-01   2019-12-06\n",
              "..             ...         ...         ...          ...\n",
              "811     2019-12-06  329591.333  2019-08-01   2019-12-06\n",
              "812     2019-12-06  329785.872  2019-09-01   2019-12-06\n",
              "813     2019-12-06  329982.035  2019-10-01   2019-12-06\n",
              "814     2019-12-06  330154.949  2019-11-01   2019-12-06\n",
              "815     2019-12-06  330309.946  2019-12-01   2019-12-06\n",
              "\n",
              "[816 rows x 4 columns]"
            ]
          },
          "execution_count": 4,
          "metadata": {},
          "output_type": "execute_result"
        }
      ],
      "source": [
        "df"
      ]
    },
    {
      "cell_type": "code",
      "execution_count": null,
      "metadata": {
        "id": "5oFoESJOa0IZ",
        "outputId": "bd6535e2-fd94-4860-8eb8-a216de594cf6"
      },
      "outputs": [
        {
          "data": {
            "text/plain": [
              "realtime_start            object\n",
              "value                    float64\n",
              "date              datetime64[ns]\n",
              "realtime_end              object\n",
              "dtype: object"
            ]
          },
          "execution_count": 5,
          "metadata": {},
          "output_type": "execute_result"
        }
      ],
      "source": [
        "df['date'] = pd.to_datetime(df['date'])\n",
        "df.dtypes"
      ]
    },
    {
      "cell_type": "code",
      "execution_count": null,
      "metadata": {
        "id": "AKQrdm6Sa0Ia",
        "outputId": "14b609d4-f756-4a51-efa1-990a9033a436"
      },
      "outputs": [
        {
          "data": {
            "text/plain": [
              "<Axes: xlabel='date', ylabel='value'>"
            ]
          },
          "execution_count": 6,
          "metadata": {},
          "output_type": "execute_result"
        },
        {
          "data": {
            "image/png": "[encoded data removed]",
            "text/plain": [
              "<Figure size 640x480 with 1 Axes>"
            ]
          },
          "metadata": {},
          "output_type": "display_data"
        }
      ],
      "source": [
        "sns.lineplot(x='date', y='value', data=df)\n"
      ]
    },
    {
      "cell_type": "code",
      "execution_count": null,
      "metadata": {
        "id": "d2S3bWSqa0Ia",
        "outputId": "f98fb3d6-97fc-4549-b2be-feb3f947a8f2"
      },
      "outputs": [
        {
          "data": {
            "text/plain": [
              "816"
            ]
          },
          "execution_count": 7,
          "metadata": {},
          "output_type": "execute_result"
        }
      ],
      "source": [
        "alvo = df['value'].to_numpy()\n",
        "len(alvo)"
      ]
    },
    {
      "cell_type": "code",
      "execution_count": null,
      "metadata": {
        "id": "GpynnjmQa0Ia"
      },
      "outputs": [],
      "source": [
        "#Pega a variavel alvo(do qual é o value)\n",
        "#realiza um for baseado num timestamp settado, com o tamanho do dataframe(lenght)\n",
        "#cria as variáveis de treino x e y alocados em um array\n",
        "\n",
        "x_train, y_train = [], []\n",
        "timestamp = 1\n",
        "alvo = df['value'].to_numpy()\n",
        "\n",
        "\n",
        "length = len(alvo)\n",
        "for i in range(timestamp, length):\n",
        "    x_train.append(alvo[i-timestamp:i])\n",
        "    y_train.append(alvo[i])\n",
        "\n",
        "x = np.array(x_train)\n",
        "y = np.array(y_train)"
      ]
    },
    {
      "cell_type": "code",
      "execution_count": null,
      "metadata": {
        "id": "C2jy83qpa0Ib",
        "outputId": "036b7215-702c-409f-f452-e626585dfece"
      },
      "outputs": [
        {
          "name": "stdout",
          "output_type": "stream",
          "text": [
            "[156309.]\n",
            "\n",
            "\n",
            "156527.0\n"
          ]
        }
      ],
      "source": [
        "print(x[0])\n",
        "print('\\n')\n",
        "print(y[0])"
      ]
    },
    {
      "cell_type": "code",
      "execution_count": null,
      "metadata": {
        "id": "SHNODpFGa0Ib"
      },
      "outputs": [],
      "source": [
        "minMax = MinMaxScaler()"
      ]
    },
    {
      "cell_type": "code",
      "execution_count": null,
      "metadata": {
        "id": "VX6LO8dla0Ib",
        "outputId": "ee69824e-2ee3-4e70-af53-be10bf6afcea"
      },
      "outputs": [
        {
          "data": {
            "text/plain": [
              "array([0.])"
            ]
          },
          "execution_count": 11,
          "metadata": {},
          "output_type": "execute_result"
        }
      ],
      "source": [
        "#escalonar o x\n",
        "x_shape = x.shape\n",
        "x_escalonado = minMax.fit_transform(x)\n",
        "x_escalonado[0]"
      ]
    },
    {
      "cell_type": "code",
      "execution_count": null,
      "metadata": {
        "id": "1qTd45G7a0Ic",
        "outputId": "85089942-a10c-4de4-ba42-9d7414720c20"
      },
      "outputs": [
        {
          "data": {
            "text/plain": [
              "array([[0.        ],\n",
              "       [0.00117388],\n",
              "       [0.00239379],\n",
              "       [0.00352739],\n",
              "       [0.00469551],\n",
              "       [0.00590392],\n",
              "       [0.00731372],\n",
              "       [0.00878107],\n",
              "       [0.01023691],\n",
              "       [0.01107128]])"
            ]
          },
          "execution_count": 12,
          "metadata": {},
          "output_type": "execute_result"
        }
      ],
      "source": [
        "#escalonar o y\n",
        "y_escalonado = minMax.fit_transform(y.reshape(-1,1))\n",
        "y_escalonado[0:10]\n"
      ]
    },
    {
      "cell_type": "code",
      "execution_count": null,
      "metadata": {
        "id": "y3Eheksya0Ic"
      },
      "outputs": [],
      "source": [
        "#Para treino recebe 80% dos dados\n",
        "#Para teste recebe os outros 20%\n",
        "\n",
        "train = int(len(x_escalonado) * 0.8)\n",
        "\n",
        "x_train = x_escalonado[0:train]\n",
        "y_train = y_escalonado[0:train]\n",
        "\n",
        "x_test = x_escalonado[train: len(x_escalonado)]\n",
        "y_test = y_escalonado[train: len(x_escalonado)]"
      ]
    },
    {
      "cell_type": "code",
      "execution_count": null,
      "metadata": {
        "id": "g6H-Ml4Ta0Ic",
        "outputId": "a2430650-ffd7-4d98-9335-7a2a34e7e8b0"
      },
      "outputs": [
        {
          "data": {
            "text/plain": [
              "Text(0.5, 0, 'Data')"
            ]
          },
          "execution_count": 14,
          "metadata": {},
          "output_type": "execute_result"
        },
        {
          "data": {
            "image/png": "[encoded data removed]",
            "text/plain": [
              "<Figure size 640x480 with 1 Axes>"
            ]
          },
          "metadata": {},
          "output_type": "display_data"
        }
      ],
      "source": [
        "sns.lineplot(x=df['date'].iloc[timestamp:len(y_train) + timestamp], y=y_train[:,0], label='Treino')\n",
        "sns.lineplot(x=df['date'].iloc[len(y_train) + timestamp:], y=y_test[:,0], label='Teste')\n",
        "plt.ylabel('Populacao')\n",
        "plt.xlabel('Data')"
      ]
    },
    {
      "cell_type": "code",
      "execution_count": null,
      "metadata": {
        "id": "nSTG-Rgga0Ic",
        "outputId": "684cc08b-37dd-4224-fb7e-43e291ba642b"
      },
      "outputs": [
        {
          "name": "stdout",
          "output_type": "stream",
          "text": [
            "X_train:  (652, 1)\n",
            "y_train:  (652, 1)\n",
            "X_test :  (163, 1)\n",
            "y_test :  (163, 1)\n"
          ]
        }
      ],
      "source": [
        "print(\"X_train: \", x_train.shape)\n",
        "print(\"y_train: \", y_train.shape)\n",
        "print(\"X_test : \", x_test.shape)\n",
        "print(\"y_test : \", y_test.shape)"
      ]
    },
    {
      "cell_type": "code",
      "execution_count": null,
      "metadata": {
        "id": "HoNUMAzea0Ic",
        "outputId": "c9e266d1-afea-4825-8c9b-bae9cb8d2c90"
      },
      "outputs": [
        {
          "name": "stdout",
          "output_type": "stream",
          "text": [
            "(652, 1)\n",
            "(163, 1)\n"
          ]
        }
      ],
      "source": [
        "print(x_train.shape)\n",
        "print(x_test.shape)"
      ]
    },
    {
      "cell_type": "code",
      "execution_count": null,
      "metadata": {
        "id": "YxHjhq31a0Ic",
        "outputId": "e9bedbde-255b-4a7d-c532-843807947027"
      },
      "outputs": [
        {
          "name": "stdout",
          "output_type": "stream",
          "text": [
            "Epoch 1/25\n",
            "652/652 - 2s - loss: 0.0182 - 2s/epoch - 3ms/step\n",
            "Epoch 2/25\n",
            "652/652 - 1s - loss: 7.8187e-04 - 705ms/epoch - 1ms/step\n",
            "Epoch 3/25\n",
            "652/652 - 1s - loss: 7.5837e-04 - 716ms/epoch - 1ms/step\n",
            "Epoch 4/25\n",
            "652/652 - 1s - loss: 7.0337e-04 - 693ms/epoch - 1ms/step\n",
            "Epoch 5/25\n",
            "652/652 - 1s - loss: 6.0704e-04 - 689ms/epoch - 1ms/step\n",
            "Epoch 6/25\n",
            "652/652 - 1s - loss: 5.7817e-04 - 693ms/epoch - 1ms/step\n",
            "Epoch 7/25\n",
            "652/652 - 1s - loss: 6.3911e-04 - 691ms/epoch - 1ms/step\n",
            "Epoch 8/25\n",
            "652/652 - 1s - loss: 5.2932e-04 - 686ms/epoch - 1ms/step\n",
            "Epoch 9/25\n",
            "652/652 - 1s - loss: 4.4085e-04 - 727ms/epoch - 1ms/step\n",
            "Epoch 10/25\n",
            "652/652 - 1s - loss: 4.7205e-04 - 693ms/epoch - 1ms/step\n",
            "Epoch 11/25\n",
            "652/652 - 1s - loss: 3.7514e-04 - 684ms/epoch - 1ms/step\n",
            "Epoch 12/25\n",
            "652/652 - 1s - loss: 4.2645e-04 - 693ms/epoch - 1ms/step\n",
            "Epoch 13/25\n",
            "652/652 - 1s - loss: 3.3529e-04 - 698ms/epoch - 1ms/step\n",
            "Epoch 14/25\n",
            "652/652 - 1s - loss: 3.2146e-04 - 687ms/epoch - 1ms/step\n",
            "Epoch 15/25\n",
            "652/652 - 1s - loss: 3.4504e-04 - 678ms/epoch - 1ms/step\n",
            "Epoch 16/25\n",
            "652/652 - 1s - loss: 2.6528e-04 - 689ms/epoch - 1ms/step\n",
            "Epoch 17/25\n",
            "652/652 - 1s - loss: 3.2872e-04 - 679ms/epoch - 1ms/step\n",
            "Epoch 18/25\n",
            "652/652 - 1s - loss: 2.6509e-04 - 680ms/epoch - 1ms/step\n",
            "Epoch 19/25\n",
            "652/652 - 1s - loss: 2.3585e-04 - 693ms/epoch - 1ms/step\n",
            "Epoch 20/25\n",
            "652/652 - 1s - loss: 3.0579e-04 - 686ms/epoch - 1ms/step\n",
            "Epoch 21/25\n",
            "652/652 - 1s - loss: 2.2053e-04 - 678ms/epoch - 1ms/step\n",
            "Epoch 22/25\n",
            "652/652 - 1s - loss: 2.5021e-04 - 691ms/epoch - 1ms/step\n",
            "Epoch 23/25\n",
            "652/652 - 1s - loss: 2.5625e-04 - 685ms/epoch - 1ms/step\n",
            "Epoch 24/25\n",
            "652/652 - 1s - loss: 2.1840e-04 - 679ms/epoch - 1ms/step\n",
            "Epoch 25/25\n",
            "652/652 - 1s - loss: 2.0517e-04 - 688ms/epoch - 1ms/step\n"
          ]
        },
        {
          "data": {
            "text/plain": [
              "<keras.callbacks.History at 0x1290c79ef10>"
            ]
          },
          "execution_count": 17,
          "metadata": {},
          "output_type": "execute_result"
        }
      ],
      "source": [
        "model = Sequential()\n",
        "\n",
        "model.add(LSTM(units= 120, return_sequences=True, input_shape = (x_train.shape[1], 1)))\n",
        "model.add(Dropout(0.2))\n",
        "\n",
        "model.add(Dense(units=1))\n",
        "model.compile(optimizer='adam', loss='mean_squared_error')\n",
        "model.fit(x_train, y_train, epochs=25, batch_size=1, verbose=2)"
      ]
    },
    {
      "cell_type": "code",
      "execution_count": null,
      "metadata": {
        "id": "c7PK-THSa0Ic",
        "outputId": "25d11288-d026-4a6b-9e40-726373443181"
      },
      "outputs": [
        {
          "data": {
            "text/plain": [
              "(163, 1, 1)"
            ]
          },
          "execution_count": 18,
          "metadata": {},
          "output_type": "execute_result"
        }
      ],
      "source": [
        "x_test = np.reshape(x_test, (x_test.shape[0], x_test.shape[1], 1))\n",
        "x_test.shape"
      ]
    },
    {
      "cell_type": "code",
      "execution_count": null,
      "metadata": {
        "id": "Ws2NhLpFa0Ic",
        "outputId": "caf8ac1b-95aa-425c-cae9-747333d58ff6"
      },
      "outputs": [
        {
          "data": {
            "text/plain": [
              "(163, 1, 1)"
            ]
          },
          "execution_count": 19,
          "metadata": {},
          "output_type": "execute_result"
        }
      ],
      "source": [
        "x_test.shape"
      ]
    },
    {
      "cell_type": "code",
      "execution_count": null,
      "metadata": {
        "id": "rW05ukwva0Id",
        "outputId": "910685b1-2b3c-4c0e-d6b7-01d06d763c31"
      },
      "outputs": [
        {
          "name": "stdout",
          "output_type": "stream",
          "text": [
            "6/6 [==============================] - 0s 1ms/step\n"
          ]
        }
      ],
      "source": [
        "y_predicted = model.predict(x_test)\n",
        "y_predicted = np.reshape(y_predicted, (y_predicted.shape[0], y_predicted.shape[1]))\n",
        "predicted_value = minMax.inverse_transform(y_predicted)"
      ]
    },
    {
      "cell_type": "code",
      "execution_count": null,
      "metadata": {
        "id": "1rkK81xza0Id"
      },
      "outputs": [],
      "source": [
        "y_test = y_test = y[train: len(x)]"
      ]
    },
    {
      "cell_type": "code",
      "execution_count": null,
      "metadata": {
        "id": "vWOk99ova0Id",
        "outputId": "7ad2458e-6987-437d-baef-710ebf07bb0e"
      },
      "outputs": [
        {
          "data": {
            "image/png": "[encoded data removed]",
            "text/plain": [
              "<Figure size 640x480 with 1 Axes>"
            ]
          },
          "metadata": {},
          "output_type": "display_data"
        }
      ],
      "source": [
        "plt.plot(y_test, color='blue', label='Populacao atual')\n",
        "plt.plot(predicted_value, color='red', label='Populacao prevista')\n",
        "plt.title('Previsao da populacao')\n",
        "plt.xlabel('Tempo')\n",
        "plt.ylabel('Populacao')\n",
        "plt.legend()\n",
        "plt.show()"
      ]
    },
    {
      "cell_type": "code",
      "execution_count": null,
      "metadata": {
        "id": "U8CWksPOa0Id",
        "outputId": "2e2fa61c-ad1a-4fed-eb8e-ec6b06ef83f7"
      },
      "outputs": [
        {
          "data": {
            "text/plain": [
              "['previsao_populacao_com_rede.sav']"
            ]
          },
          "execution_count": 23,
          "metadata": {},
          "output_type": "execute_result"
        }
      ],
      "source": [
        "import joblib\n",
        "filename = \"previsao_populacao_com_rede.sav\"\n",
        "joblib.dump(model, filename)"
      ]
    }
  ],
  "metadata": {
    "kernelspec": {
      "display_name": "Python 3",
      "language": "python",
      "name": "python3"
    },
    "language_info": {
      "codemirror_mode": {
        "name": "ipython",
        "version": 3
      },
      "file_extension": ".py",
      "mimetype": "text/x-python",
      "name": "python",
      "nbconvert_exporter": "python",
      "pygments_lexer": "ipython3",
      "version": "3.11.0"
    },
    "orig_nbformat": 4,
    "colab": {
      "provenance": [],
      "include_colab_link": true
    }
  },
  "nbformat": 4,
  "nbformat_minor": 0
}